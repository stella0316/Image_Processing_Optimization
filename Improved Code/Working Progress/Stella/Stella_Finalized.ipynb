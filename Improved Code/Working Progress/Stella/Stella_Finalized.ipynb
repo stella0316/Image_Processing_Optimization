{
 "cells": [
  {
   "cell_type": "code",
   "execution_count": 1,
   "metadata": {
    "collapsed": true
   },
   "outputs": [],
   "source": [
    "# -*- coding: utf-8 -*-\n",
    "\n",
    "# The program will consist of three steps:\n",
    "#\t(1) detect edges using the Sobel’s operator,\n",
    "#\t(2) detect straight line segments using the Hough Transform, and\n",
    "#\t(3) detect parallelograms from the straight-line segments detected in step (2).\n",
    "# In step (1), compute edge magnitude using the formula below and\n",
    "# then normalize the magnitude values to lie within the range [0,255].\n",
    "# Next, manually choose a threshold value to produce a binary edge map.\n",
    "\n",
    "import numpy as np\n",
    "import matplotlib\n",
    "from matplotlib import pylab as plt\n",
    "import math\n",
    "import itertools as it\n",
    "from itertools import product\n",
    "# import cv2\n",
    "# from skimage.feature import peak_local_max\n",
    "from photutils_detection_core import find_peaks\n",
    "# import sys\n",
    "\n",
    "\n",
    "row, col = 756, 1008  # Size of TestImage 1 and 2\n",
    "# row, col = 413, 550 # Size of TestImage 3\n",
    "filename = \"TestImage1.raw\"\n",
    "T = 25  # Threshold in the normalized gradient magnitue\n",
    "Canny_Edge_Detector_threshold = 10\n",
    "local_maxima_window_size = 3  # neighborhood_size\n",
    "# the de-Houghed image (using a relative threshold of 40%)\n",
    "relative_threshold_ratio = 0.4\n",
    "distance_threshold = 8  # Threshold distance to determin if a point on a line\n",
    "\n",
    "# the least points on line to be considered to be a valid line\n",
    "points_on_line_threshold = 20\n"
   ]
  },
  {
   "cell_type": "code",
   "execution_count": 2,
   "metadata": {
    "collapsed": true
   },
   "outputs": [],
   "source": [
    "# convert them into grayscale images by using the formula\n",
    "# luminance = 0.30R + 0.59G + 0.11B,\n",
    "# where R, G, and B, are the red, green, and blue components.\n",
    "\n",
    "\n",
    "def cvt2grayscale(img):\n",
    "    grayImage = []\n",
    "    for i in range(0, img.size // 3):\n",
    "        luminance = int(0.3 * img[3 * i] + 0.59 *\n",
    "                        img[3 * i + 1] + 0.11 * img[3 * i + 2])\n",
    "        grayImage.append(luminance)\n",
    "\n",
    "    return np.array(grayImage)\n",
    "\n",
    "# Gausssion smoothing: https://homepages.inf.ed.ac.uk/rbf/HIPR2/gsmooth.htm\n",
    "\n",
    "\n",
    "def smooth_image_with_Gaussian_filter(img):\n",
    "    kernel = (0.006, 0.061, 0.242, 0.383, 0.242, 0.061, 0.006)\n",
    "    kernel_size = len(kernel)\n",
    "    border_offset = (kernel_size - 1) // 2\n",
    "\n",
    "    img_copy = np.copy(img)\n",
    "    for i in range(0, row):\n",
    "        # Keep border values as they are\n",
    "        for j in range(border_offset, col - border_offset):\n",
    "            img_copy_ij = 0\n",
    "            for k in range((-1) * border_offset, border_offset + 1):\n",
    "                img_copy_ij += img[i][j + k] * kernel[border_offset + k]\n",
    "            img_copy[i][j] = img_copy_ij\n",
    "\n",
    "    img_copy_copy = np.copy(img_copy)\n",
    "    # Keep border values as they are\n",
    "    for i in range(border_offset, row - border_offset):\n",
    "        for j in range(0, col):\n",
    "            img_copy_copy_ij = 0\n",
    "            for k in range((-1) * border_offset, border_offset + 1):\n",
    "                img_copy_copy_ij += img_copy[i +\n",
    "                                             k][j] * kernel[border_offset + k]\n",
    "            img_copy_copy[i][j] = img_copy_copy_ij\n",
    "\n",
    "    return img_copy_copy\n",
    "\n"
   ]
  },
  {
   "cell_type": "code",
   "execution_count": 3,
   "metadata": {},
   "outputs": [
    {
     "name": "stdout",
     "output_type": "stream",
     "text": [
      "Step 1: Convert image to grayscale.\n"
     ]
    }
   ],
   "source": [
    "# Read Image\n",
    "filepath = '../Parallelograms-Detection(Original Code)/TestImage1.raw'\n",
    "testImage = np.fromfile(filepath, dtype='uint8', sep=\"\")\n",
    "\n",
    "# Convert to grayscale image\n",
    "grayImage = cvt2grayscale(testImage).reshape([row, col])\n",
    "print(\"Step 1: Convert image to grayscale.\")\n",
    "# print grayImage.shape\n",
    "\n",
    "# Smooth_image_with_Gaussian_filter\n",
    "grayImage_smoothed = smooth_image_with_Gaussian_filter(grayImage)\n",
    "\n",
    "\n",
    "# Display Image\n",
    "# plt.imshow(grayImage_smoothed, cmap='gray')\n",
    "# plt.show()\n",
    "# plt.savefig(\"grayImage_smoothed_with_Gaussian_filter.png\")\n",
    "# plt.close()\n"
   ]
  },
  {
   "cell_type": "code",
   "execution_count": 4,
   "metadata": {
    "collapsed": true
   },
   "outputs": [],
   "source": [
    "from numba import jit, float64, int64"
   ]
  },
  {
   "cell_type": "code",
   "execution_count": 7,
   "metadata": {
    "collapsed": true
   },
   "outputs": [],
   "source": [
    "# Compute gradient magnitude and gradient angle\n",
    "gradient_magnitude = np.zeros((row, col), dtype='uint8')\n",
    "gradient_angle = np.zeros((row, col), dtype='uint8')\n",
    "quantize_angle_of_the_gradient = np.zeros((row, col), dtype='uint8')\n",
    "\n",
    "@jit()\n",
    "def quantize_angle_of_the_gradient_to_four_sectors_Final(angle):\n",
    "    # Double check the parameter\n",
    "    if (angle < 0 or angle > 360):\n",
    "        print(\"Warning: invalid parameter in quantize_angle_of_the_gradient_to_four_sectors(angle).\")\n",
    "        return 4\n",
    "    if (angle <= 22.5 or\n",
    "            (angle >= 157.5 and angle <= 202.5) or\n",
    "            angle >= 337.5):\n",
    "        return 0\n",
    "    if ((angle > 22.5 and angle < 67.5) or\n",
    "            (angle > 202.5 and angle < 247.5)):\n",
    "        return 1\n",
    "    if ((angle >= 67.5 and angle <= 112.5) or\n",
    "            (angle >= 247.5 and angle <= 292.5)):\n",
    "        return 2\n",
    "    if ((angle > 112.5 and angle < 157.5) or\n",
    "            (angle > 292.5 and angle < 337.5)):\n",
    "        return 3\n",
    "\n",
    "@jit\n",
    "def compute_gradient_magnitude_and_gradient_angle_Final(image_smoothed):\n",
    "    indices = product(range(1,row),range(1,col))\n",
    "    for i in indices:\n",
    "        Gx = (image_smoothed[i] + image_smoothed[i[0]-1][i[1]]\n",
    "                  - image_smoothed[i[0]][i[1]-1] - image_smoothed[i[0]-1][i[1]-1])\n",
    "        Gy = (image_smoothed[i[0]-1][i[1]-1] + image_smoothed[i[0]-1][i[1]]\n",
    "                  - image_smoothed[i[0]][i[1]-1] - image_smoothed[i])\n",
    "        gradient_magnitude[i] = math.sqrt(Gx * Gx + Gy * Gy)\n",
    "        if Gx == 0:\n",
    "            gradient_angle[i] = 90 if Gy > 0 else 270\n",
    "        else:\n",
    "            gradient_angle[i] = math.degrees(math.atan2(Gy, Gx))\n",
    "\n",
    "        quantize_angle_of_the_gradient[i] = quantize_angle_of_the_gradient_to_four_sectors_Final(gradient_angle[i])"
   ]
  },
  {
   "cell_type": "code",
   "execution_count": 9,
   "metadata": {},
   "outputs": [
    {
     "name": "stdout",
     "output_type": "stream",
     "text": [
      "3.72 s ± 327 ms per loop (mean ± std. dev. of 7 runs, 2 loops each)\n"
     ]
    }
   ],
   "source": [
    "%timeit -n 2 compute_gradient_magnitude_and_gradient_angle_Final(grayImage_smoothed)"
   ]
  },
  {
   "cell_type": "code",
   "execution_count": 10,
   "metadata": {},
   "outputs": [
    {
     "name": "stdout",
     "output_type": "stream",
     "text": [
      "255\n",
      "Step 3: Hough Transform applied.\n"
     ]
    }
   ],
   "source": [
    "imgMag = gradient_magnitude\n",
    "theta_step_size = 3\n",
    "p_step_size = 1\n",
    "theta_MAX_VALUE = 360\n",
    "p_MAX_VALUE = int(math.sqrt(row * row + col * col))\n",
    "\n",
    "accumulator_array = np.zeros(\n",
    "        (theta_MAX_VALUE // theta_step_size + 1, p_MAX_VALUE // p_step_size + 1), dtype='uint8')\n",
    "    # Compute the accumulator array\n",
    "imgMag_row, imgMag_col = imgMag.shape\n",
    "    \n",
    "indices = product(range(0,imgMag_row),range(0,imgMag_col))\n",
    "for i in indices:\n",
    "    if(imgMag[i] > 0):\n",
    "        # p = x*cos(theta) + y*sin(theta)\n",
    "        theta = 0\n",
    "        for theta in range(0,360,3):\n",
    "            theta_radians = math.radians(theta + theta_step_size / 2.0)\n",
    "            p_estimate = i[0] * math.cos(theta_radians) + \\\n",
    "                        i[1] * math.sin(theta_radians)\n",
    "            # Update the accumulator array\n",
    "            accu_x = theta // theta_step_size\n",
    "            accu_y = int(p_estimate / p_step_size)\n",
    "            accumulator_array[accu_x][accu_y] += 1\n",
    "               \n",
    "max_accumulator = np.amax(accumulator_array)\n",
    "print(max_accumulator)\n",
    "print(\"Step 3: Hough Transform applied.\")"
   ]
  },
  {
   "cell_type": "code",
   "execution_count": 7,
   "metadata": {},
   "outputs": [],
   "source": [
    "import math"
   ]
  },
  {
   "cell_type": "code",
   "execution_count": 9,
   "metadata": {},
   "outputs": [
    {
     "data": {
      "text/plain": [
       "51"
      ]
     },
     "execution_count": 9,
     "metadata": {},
     "output_type": "execute_result"
    }
   ],
   "source": [
    "360//7"
   ]
  },
  {
   "cell_type": "code",
   "execution_count": null,
   "metadata": {
    "collapsed": true
   },
   "outputs": [],
   "source": []
  }
 ],
 "metadata": {
  "kernelspec": {
   "display_name": "Python 3",
   "language": "python",
   "name": "python3"
  },
  "language_info": {
   "codemirror_mode": {
    "name": "ipython",
    "version": 3
   },
   "file_extension": ".py",
   "mimetype": "text/x-python",
   "name": "python",
   "nbconvert_exporter": "python",
   "pygments_lexer": "ipython3",
   "version": "3.6.0"
  }
 },
 "nbformat": 4,
 "nbformat_minor": 2
}
