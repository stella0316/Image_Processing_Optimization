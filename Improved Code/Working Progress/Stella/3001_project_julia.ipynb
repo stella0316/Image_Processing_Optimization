{
 "cells": [
  {
   "cell_type": "code",
   "execution_count": null,
   "metadata": {},
   "outputs": [],
   "source": []
  },
  {
   "cell_type": "code",
   "execution_count": null,
   "metadata": {},
   "outputs": [],
   "source": []
  },
  {
   "cell_type": "code",
   "execution_count": null,
   "metadata": {},
   "outputs": [],
   "source": []
  },
  {
   "cell_type": "code",
   "execution_count": null,
   "metadata": {},
   "outputs": [],
   "source": []
  },
  {
   "cell_type": "code",
   "execution_count": 117,
   "metadata": {},
   "outputs": [
    {
     "data": {
      "text/plain": [
       "python_func (generic function with 1 method)"
      ]
     },
     "execution_count": 117,
     "metadata": {},
     "output_type": "execute_result"
    }
   ],
   "source": [
    "function python_func()\n",
    "    theta = 0\n",
    "    theta_step_size = 3\n",
    "    p_step_size = 1\n",
    "    theta_MAX_VALUE = 360\n",
    "    p_MAX_VALUE = pyint(math.sqrt(row * row + col * col))\n",
    "    result = pylist()\n",
    "\n",
    "    while theta < 360\n",
    "        theta_radians = math.radians(theta + theta_step_size / 2.0)\n",
    "        p_estimate = 3 * math.cos(theta_radians) + 4 * math.sin(theta_radians)\n",
    "        # Update the accumulator array\n",
    "        accu_x = fld(theta,theta_step_size)\n",
    "        accu_y = pyint(p_estimate / p_step_size)\n",
    "        push!(result,accu_x + accu_y)\n",
    "        # next theta\n",
    "        theta = theta + theta_step_size\n",
    "    end\n",
    "    max_accumulator = np.amax(result)\n",
    "    return max_accumulator\n",
    "    \n",
    "end\n",
    "\n",
    "\n"
   ]
  },
  {
   "cell_type": "code",
   "execution_count": null,
   "metadata": {},
   "outputs": [],
   "source": []
  },
  {
   "cell_type": "code",
   "execution_count": 116,
   "metadata": {},
   "outputs": [
    {
     "data": {
      "text/plain": [
       "julia_func (generic function with 1 method)"
      ]
     },
     "execution_count": 116,
     "metadata": {},
     "output_type": "execute_result"
    }
   ],
   "source": [
    "function julia_func()\n",
    "    theta = 0\n",
    "    theta_step_size = 3\n",
    "    p_step_size = 1\n",
    "    theta_MAX_VALUE = 360\n",
    "    p_MAX_VALUE = floor(sqrt(row * row + col * col))\n",
    "    result = Int32[]\n",
    "\n",
    "    while theta < 360\n",
    "        theta_radians = deg2rad(theta + theta_step_size / 2.0)\n",
    "        p_estimate = 3 * cos(theta_radians) + 4 * sin(theta_radians)\n",
    "        # Update the accumulator array\n",
    "        accu_x = fld(theta,theta_step_size)\n",
    "        accu_y = floor(p_estimate / p_step_size)\n",
    "        push!(result,accu_x + accu_y)\n",
    "        # next theta\n",
    "        theta = theta + theta_step_size\n",
    "    end\n",
    "    max_accumulator = maximum(result)\n",
    "    return max_accumulator\n",
    "    \n",
    "end\n",
    "\n",
    "\n"
   ]
  },
  {
   "cell_type": "code",
   "execution_count": 118,
   "metadata": {},
   "outputs": [
    {
     "data": {
      "text/plain": [
       "true"
      ]
     },
     "execution_count": 118,
     "metadata": {},
     "output_type": "execute_result"
    }
   ],
   "source": [
    "julia_func() == python_func()"
   ]
  },
  {
   "cell_type": "code",
   "execution_count": 119,
   "metadata": {},
   "outputs": [
    {
     "data": {
      "text/plain": [
       "BenchmarkTools.Trial: \n",
       "  memory estimate:  308.19 KiB\n",
       "  allocs estimate:  12204\n",
       "  --------------\n",
       "  minimum time:     4.289 ms (0.00% GC)\n",
       "  median time:      5.129 ms (0.00% GC)\n",
       "  mean time:        5.925 ms (9.95% GC)\n",
       "  maximum time:     379.294 ms (96.57% GC)\n",
       "  --------------\n",
       "  samples:          843\n",
       "  evals/sample:     1"
      ]
     },
     "execution_count": 119,
     "metadata": {},
     "output_type": "execute_result"
    }
   ],
   "source": [
    "py_bench = @benchmark $python_func()"
   ]
  },
  {
   "cell_type": "code",
   "execution_count": 120,
   "metadata": {},
   "outputs": [
    {
     "data": {
      "text/plain": [
       "BenchmarkTools.Trial: \n",
       "  memory estimate:  1.31 KiB\n",
       "  allocs estimate:  12\n",
       "  --------------\n",
       "  minimum time:     5.367 μs (0.00% GC)\n",
       "  median time:      6.950 μs (0.00% GC)\n",
       "  mean time:        7.408 μs (1.58% GC)\n",
       "  maximum time:     436.531 μs (96.38% GC)\n",
       "  --------------\n",
       "  samples:          10000\n",
       "  evals/sample:     6"
      ]
     },
     "execution_count": 120,
     "metadata": {},
     "output_type": "execute_result"
    }
   ],
   "source": [
    "julia_bench = @benchmark $julia_func()"
   ]
  },
  {
   "cell_type": "code",
   "execution_count": null,
   "metadata": {},
   "outputs": [],
   "source": []
  },
  {
   "cell_type": "code",
   "execution_count": 115,
   "metadata": {},
   "outputs": [
    {
     "data": {
      "text/plain": [
       "Dict{Any,Any} with 2 entries:\n",
       "  \"Julia\"  => 0.0244\n",
       "  \"Python\" => 4.29684"
      ]
     },
     "execution_count": 115,
     "metadata": {},
     "output_type": "execute_result"
    }
   ],
   "source": [
    "d = Dict()\n",
    "d[\"Julia\"] = minimum(julia_bench.times) / 1e6\n",
    "d[\"Python\"] = minimum(py_bench.times) / 1e6\n",
    "d"
   ]
  },
  {
   "cell_type": "code",
   "execution_count": null,
   "metadata": {},
   "outputs": [],
   "source": []
  },
  {
   "cell_type": "code",
   "execution_count": null,
   "metadata": {},
   "outputs": [],
   "source": []
  },
  {
   "cell_type": "code",
   "execution_count": null,
   "metadata": {},
   "outputs": [],
   "source": []
  },
  {
   "cell_type": "code",
   "execution_count": null,
   "metadata": {},
   "outputs": [],
   "source": []
  }
 ],
 "metadata": {
  "kernelspec": {
   "display_name": "Julia 0.6.2",
   "language": "julia",
   "name": "julia-0.6"
  },
  "language_info": {
   "file_extension": ".jl",
   "mimetype": "application/julia",
   "name": "julia",
   "version": "0.6.2"
  }
 },
 "nbformat": 4,
 "nbformat_minor": 2
}
