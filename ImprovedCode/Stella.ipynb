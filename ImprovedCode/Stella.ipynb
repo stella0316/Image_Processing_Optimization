{
 "cells": [
  {
   "cell_type": "code",
   "execution_count": 66,
   "metadata": {
    "collapsed": true
   },
   "outputs": [],
   "source": [
    "# -*- coding: utf-8 -*-\n",
    "\n",
    "# The program will consist of three steps:\n",
    "#\t(1) detect edges using the Sobel’s operator,\n",
    "#\t(2) detect straight line segments using the Hough Transform, and\n",
    "#\t(3) detect parallelograms from the straight-line segments detected in step (2).\n",
    "# In step (1), compute edge magnitude using the formula below and\n",
    "# then normalize the magnitude values to lie within the range [0,255].\n",
    "# Next, manually choose a threshold value to produce a binary edge map.\n",
    "\n",
    "import numpy as np\n",
    "import matplotlib\n",
    "from matplotlib import pylab as plt\n",
    "import math\n",
    "import itertools as it\n",
    "# import cv2\n",
    "# from skimage.feature import peak_local_max\n",
    "from photutils_detection_core import find_peaks\n",
    "# import sys\n",
    "\n",
    "\n",
    "row, col = 756, 1008  # Size of TestImage 1 and 2\n",
    "# row, col = 413, 550 # Size of TestImage 3\n",
    "filename = \"TestImage1.raw\"\n",
    "T = 25  # Threshold in the normalized gradient magnitue\n",
    "Canny_Edge_Detector_threshold = 10\n",
    "local_maxima_window_size = 3  # neighborhood_size\n",
    "# the de-Houghed image (using a relative threshold of 40%)\n",
    "relative_threshold_ratio = 0.4\n",
    "distance_threshold = 8  # Threshold distance to determin if a point on a line\n",
    "\n",
    "# the least points on line to be considered to be a valid line\n",
    "points_on_line_threshold = 20\n"
   ]
  },
  {
   "cell_type": "code",
   "execution_count": 67,
   "metadata": {
    "collapsed": true
   },
   "outputs": [],
   "source": [
    "# convert them into grayscale images by using the formula\n",
    "# luminance = 0.30R + 0.59G + 0.11B,\n",
    "# where R, G, and B, are the red, green, and blue components.\n",
    "\n",
    "\n",
    "def cvt2grayscale(img):\n",
    "    grayImage = []\n",
    "    for i in range(0, img.size // 3):\n",
    "        luminance = int(0.3 * img[3 * i] + 0.59 *\n",
    "                        img[3 * i + 1] + 0.11 * img[3 * i + 2])\n",
    "        grayImage.append(luminance)\n",
    "\n",
    "    return np.array(grayImage)\n",
    "\n",
    "# Gausssion smoothing: https://homepages.inf.ed.ac.uk/rbf/HIPR2/gsmooth.htm\n",
    "\n",
    "\n",
    "def smooth_image_with_Gaussian_filter(img):\n",
    "    kernel = (0.006, 0.061, 0.242, 0.383, 0.242, 0.061, 0.006)\n",
    "    kernel_size = len(kernel)\n",
    "    border_offset = (kernel_size - 1) // 2\n",
    "\n",
    "    img_copy = np.copy(img)\n",
    "    for i in range(0, row):\n",
    "        # Keep border values as they are\n",
    "        for j in range(border_offset, col - border_offset):\n",
    "            img_copy_ij = 0\n",
    "            for k in range((-1) * border_offset, border_offset + 1):\n",
    "                img_copy_ij += img[i][j + k] * kernel[border_offset + k]\n",
    "            img_copy[i][j] = img_copy_ij\n",
    "\n",
    "    img_copy_copy = np.copy(img_copy)\n",
    "    # Keep border values as they are\n",
    "    for i in range(border_offset, row - border_offset):\n",
    "        for j in range(0, col):\n",
    "            img_copy_copy_ij = 0\n",
    "            for k in range((-1) * border_offset, border_offset + 1):\n",
    "                img_copy_copy_ij += img_copy[i +\n",
    "                                             k][j] * kernel[border_offset + k]\n",
    "            img_copy_copy[i][j] = img_copy_copy_ij\n",
    "\n",
    "    return img_copy_copy\n",
    "\n"
   ]
  },
  {
   "cell_type": "code",
   "execution_count": 92,
   "metadata": {},
   "outputs": [
    {
     "name": "stdout",
     "output_type": "stream",
     "text": [
      "Step 1: Convert image to grayscale.\n"
     ]
    }
   ],
   "source": [
    "# Read Image\n",
    "filepath = '../Parallelograms-Detection(Original Code)/TestImage1.raw'\n",
    "testImage = np.fromfile(filepath, dtype='uint8', sep=\"\")\n",
    "\n",
    "# Convert to grayscale image\n",
    "grayImage = cvt2grayscale(testImage).reshape([row, col])\n",
    "print(\"Step 1: Convert image to grayscale.\")\n",
    "# print grayImage.shape\n",
    "\n",
    "# Smooth_image_with_Gaussian_filter\n",
    "grayImage_smoothed = smooth_image_with_Gaussian_filter(grayImage)\n",
    "\n",
    "\n",
    "# Display Image\n",
    "# plt.imshow(grayImage_smoothed, cmap='gray')\n",
    "# plt.show()\n",
    "# plt.savefig(\"grayImage_smoothed_with_Gaussian_filter.png\")\n",
    "# plt.close()\n"
   ]
  },
  {
   "cell_type": "code",
   "execution_count": 4,
   "metadata": {
    "collapsed": true
   },
   "outputs": [],
   "source": [
    "# Compute gradient magnitude and gradient angle\n",
    "gradient_magnitude = np.zeros((row, col), dtype='uint8')\n",
    "gradient_angle = np.zeros((row, col), dtype='uint8')\n",
    "quantize_angle_of_the_gradient = np.zeros((row, col), dtype='uint8')\n",
    "\n",
    "\n",
    "def quantize_angle_of_the_gradient_to_four_sectors(angle):\n",
    "    # Double check the parameter\n",
    "    if (angle < 0 or angle > 360):\n",
    "        print(\"Warning: invalid parameter in quantize_angle_of_the_gradient_to_four_sectors(angle).\")\n",
    "        return 4\n",
    "    if (angle <= 0 + 22.5 or\n",
    "            (angle >= 180 - 22.5 and angle <= 180 + 22.5) or\n",
    "            angle >= 315 + 22.5):\n",
    "        return 0\n",
    "    if ((angle > 45 - 22.5 and angle < 45 + 22.5) or\n",
    "            (angle > 225 - 22.5 and angle < 225 + 22.5)):\n",
    "        return 1\n",
    "    if ((angle >= 90 - 22.5 and angle <= 90 + 22.5) or\n",
    "            (angle >= 270 - 22.5 and angle <= 270 + 22.5)):\n",
    "        return 2\n",
    "    if ((angle > 135 - 22.5 and angle < 135 + 22.5) or\n",
    "            (angle > 315 - 22.5 and angle < 315 + 22.5)):\n",
    "        return 3\n",
    "\n",
    "\n",
    "def compute_gradient_magnitude_and_gradient_angle(image_smoothed):\n",
    "    for i in range(1, row):\n",
    "        for j in range(1, col):\n",
    "            Gx = (image_smoothed[i][j] + image_smoothed[i - 1][j]\n",
    "                  - image_smoothed[i][j - 1] - image_smoothed[i - 1][j - 1])\n",
    "            Gy = (image_smoothed[i - 1][j - 1] + image_smoothed[i - 1][j]\n",
    "                  - image_smoothed[i][j - 1] - image_smoothed[i][j])\n",
    "            gradient_magnitude[i][j] = math.sqrt(Gx * Gx + Gy * Gy)\n",
    "            if Gx == 0:\n",
    "                gradient_angle[i][j] = 90 if Gy > 0 else 270\n",
    "            else:\n",
    "                gradient_angle[i][j] = math.degrees(math.atan2(Gy, Gx))\n",
    "\n",
    "            quantize_angle_of_the_gradient[i][\n",
    "                j] = quantize_angle_of_the_gradient_to_four_sectors(gradient_angle[i][j])"
   ]
  },
  {
   "cell_type": "code",
   "execution_count": 5,
   "metadata": {},
   "outputs": [
    {
     "name": "stdout",
     "output_type": "stream",
     "text": [
      "11.2 s ± 294 ms per loop (mean ± std. dev. of 7 runs, 2 loops each)\n"
     ]
    }
   ],
   "source": [
    "%timeit -n 2 compute_gradient_magnitude_and_gradient_angle(grayImage_smoothed)"
   ]
  },
  {
   "cell_type": "code",
   "execution_count": 18,
   "metadata": {
    "collapsed": true
   },
   "outputs": [],
   "source": [
    "#grayImage_smoothed = np.fromfile('grayImage_smoothed_with_Gaussian_filter.png', dtype='uint8', sep=\"\")"
   ]
  },
  {
   "cell_type": "code",
   "execution_count": 6,
   "metadata": {},
   "outputs": [
    {
     "name": "stdout",
     "output_type": "stream",
     "text": [
      "464 ns ± 7.65 ns per loop (mean ± std. dev. of 7 runs, 100 loops each)\n"
     ]
    }
   ],
   "source": [
    "%timeit -n 100 quantize_angle_of_the_gradient_to_four_sectors(30)"
   ]
  },
  {
   "cell_type": "markdown",
   "metadata": {},
   "source": [
    "    Stage 1: Performance Tunning (Itertools)"
   ]
  },
  {
   "cell_type": "code",
   "execution_count": 96,
   "metadata": {
    "collapsed": true
   },
   "outputs": [],
   "source": [
    "from itertools import product\n",
    "\n",
    "# Compute gradient magnitude and gradient angle\n",
    "gradient_magnitude = np.zeros((row, col), dtype='uint8')\n",
    "gradient_angle = np.zeros((row, col), dtype='uint8')\n",
    "quantize_angle_of_the_gradient = np.zeros((row, col), dtype='uint8')\n",
    "\n",
    "def quantize_angle_of_the_gradient_to_four_sectors_Stage1(angle):\n",
    "    # Double check the parameter\n",
    "    if (angle < 0 or angle > 360):\n",
    "        print(\"Warning: invalid parameter in quantize_angle_of_the_gradient_to_four_sectors(angle).\")\n",
    "        return 4\n",
    "    if (angle <= 22.5 or\n",
    "            (angle >= 157.5 and angle <= 202.5) or\n",
    "            angle >= 337.5):\n",
    "        return 0\n",
    "    if ((angle > 22.5 and angle < 67.5) or\n",
    "            (angle > 202.5 and angle < 247.5)):\n",
    "        return 1\n",
    "    if ((angle >= 67.5 and angle <= 112.5) or\n",
    "            (angle >= 247.5 and angle <= 292.5)):\n",
    "        return 2\n",
    "    if ((angle > 112.5 and angle < 157.5) or\n",
    "            (angle > 292.5 and angle < 337.5)):\n",
    "        return 3\n",
    "\n",
    "\n",
    "def compute_gradient_magnitude_and_gradient_angle_Stage1(image_smoothed):\n",
    "    indices = product(range(1,row),range(1,col))\n",
    "    for i in indices:\n",
    "        Gx = (image_smoothed[i] + image_smoothed[i[0]-1][i[1]]\n",
    "                  - image_smoothed[i[0]][i[1]-1] - image_smoothed[i[0]-1][i[1]-1])\n",
    "        Gy = (image_smoothed[i[0]-1][i[1]-1] + image_smoothed[i[0]-1][i[1]]\n",
    "                  - image_smoothed[i[0]][i[1]-1] - image_smoothed[i])\n",
    "        gradient_magnitude[i] = math.sqrt(Gx * Gx + Gy * Gy)\n",
    "        if Gx == 0:\n",
    "            gradient_angle[i] = 90 if Gy > 0 else 270\n",
    "        else:\n",
    "            gradient_angle[i] = math.degrees(math.atan2(Gy, Gx))\n",
    "\n",
    "        quantize_angle_of_the_gradient[i] = quantize_angle_of_the_gradient_to_four_sectors_Stage1(gradient_angle[i])"
   ]
  },
  {
   "cell_type": "code",
   "execution_count": 97,
   "metadata": {},
   "outputs": [
    {
     "name": "stdout",
     "output_type": "stream",
     "text": [
      "10.3 s ± 393 ms per loop (mean ± std. dev. of 7 runs, 2 loops each)\n"
     ]
    }
   ],
   "source": [
    "%timeit -n 2 compute_gradient_magnitude_and_gradient_angle_Stage1(grayImage_smoothed)"
   ]
  },
  {
   "cell_type": "code",
   "execution_count": 74,
   "metadata": {},
   "outputs": [
    {
     "name": "stdout",
     "output_type": "stream",
     "text": [
      "460 ns ± 9 ns per loop (mean ± std. dev. of 7 runs, 100 loops each)\n"
     ]
    }
   ],
   "source": [
    "%timeit -n 100 quantize_angle_of_the_gradient_to_four_sectors_Stage1(30)"
   ]
  },
  {
   "cell_type": "code",
   "execution_count": null,
   "metadata": {
    "collapsed": true
   },
   "outputs": [],
   "source": []
  },
  {
   "cell_type": "markdown",
   "metadata": {},
   "source": [
    "    Stage 2 : Cython"
   ]
  },
  {
   "cell_type": "markdown",
   "metadata": {},
   "source": [
    "state variables with ctypes"
   ]
  },
  {
   "cell_type": "code",
   "execution_count": 77,
   "metadata": {},
   "outputs": [
    {
     "name": "stdout",
     "output_type": "stream",
     "text": [
      "The Cython extension is already loaded. To reload it, use:\n",
      "  %reload_ext Cython\n"
     ]
    }
   ],
   "source": [
    "%load_ext Cython"
   ]
  },
  {
   "cell_type": "code",
   "execution_count": 104,
   "metadata": {},
   "outputs": [],
   "source": [
    "%%cython\n",
    "cimport numpy as np\n",
    "import numpy as np\n",
    "ctypedef np.int_t DTYPE_t\n",
    "from itertools import product\n",
    "import math\n",
    "\n",
    "\n",
    "cdef int row = 756\n",
    "cdef int col = 1009\n",
    "\n",
    "\n",
    "# Compute gradient magnitude and gradient angle\n",
    "cdef np.ndarray gradient_magnitude = np.zeros([row,col], dtype='uint8')\n",
    "#gradient_magnitude = np.zeros((row, col), dtype='uint8')\n",
    "cdef np.ndarray gradient_angle = np.zeros([row, col], dtype='uint8')\n",
    "cdef np.ndarray quantize_angle_of_the_gradient = np.zeros([row, col], dtype='uint8')\n",
    "\n",
    "def quantize_angle_of_the_gradient_to_four_sectors_Stage2(angle):\n",
    "    # Double check the parameter\n",
    "    if (angle < 0 or angle > 360):\n",
    "        print(\"Warning: invalid parameter in quantize_angle_of_the_gradient_to_four_sectors(angle).\")\n",
    "        return 4\n",
    "    if (angle <= 22.5 or\n",
    "            (angle >= 157.5 and angle <= 202.5) or\n",
    "            angle >= 337.5):\n",
    "        return 0\n",
    "    if ((angle > 22.5 and angle < 67.5) or\n",
    "            (angle > 202.5 and angle < 247.5)):\n",
    "        return 1\n",
    "    if ((angle >= 67.5 and angle <= 112.5) or\n",
    "            (angle >= 247.5 and angle <= 292.5)):\n",
    "        return 2\n",
    "    if ((angle > 112.5 and angle < 157.5) or\n",
    "            (angle > 292.5 and angle < 337.5)):\n",
    "        return 3\n",
    "\n",
    "\n",
    "def compute_gradient_magnitude_and_gradient_angle_Stage2(image_smoothed):\n",
    "    cdef list indices = list(product(range(1,row),range(1,col)))\n",
    "    for i in indices:\n",
    "        Gx = (image_smoothed[i] + image_smoothed[i[0]-1][i[1]]\n",
    "                  - image_smoothed[i[0]][i[1]-1] - image_smoothed[i[0]-1][i[1]-1])\n",
    "        Gy = (image_smoothed[i[0]-1][i[1]-1] + image_smoothed[i[0]-1][i[1]]\n",
    "                  - image_smoothed[i[0]][i[1]-1] - image_smoothed[i])\n",
    "        gradient_magnitude[i] = math.sqrt(Gx * Gx + Gy * Gy)\n",
    "        if Gx == 0:\n",
    "            gradient_angle[i] = 90 if Gy > 0 else 270\n",
    "        else:\n",
    "            gradient_angle[i] = math.degrees(math.atan2(Gy, Gx))\n",
    "\n",
    "        quantize_angle_of_the_gradient[i] = quantize_angle_of_the_gradient_to_four_sectors_Stage2(gradient_angle[i])"
   ]
  },
  {
   "cell_type": "code",
   "execution_count": 105,
   "metadata": {},
   "outputs": [
    {
     "ename": "IndexError",
     "evalue": "index 1008 is out of bounds for axis 1 with size 1008",
     "output_type": "error",
     "traceback": [
      "\u001b[0;31m---------------------------------------------------------------------------\u001b[0m",
      "\u001b[0;31mIndexError\u001b[0m                                Traceback (most recent call last)",
      "\u001b[0;32m<ipython-input-105-ba1fcdeae94c>\u001b[0m in \u001b[0;36m<module>\u001b[0;34m()\u001b[0m\n\u001b[0;32m----> 1\u001b[0;31m \u001b[0mcompute_gradient_magnitude_and_gradient_angle_Stage2\u001b[0m\u001b[0;34m(\u001b[0m\u001b[0mgrayImage_smoothed\u001b[0m\u001b[0;34m)\u001b[0m\u001b[0;34m\u001b[0m\u001b[0m\n\u001b[0m",
      "\u001b[0;32m_cython_magic_d4d7b18ecb56336c6d9999ea88764d48.pyx\u001b[0m in \u001b[0;36m_cython_magic_d4d7b18ecb56336c6d9999ea88764d48.compute_gradient_magnitude_and_gradient_angle_Stage2\u001b[0;34m()\u001b[0m\n",
      "\u001b[0;31mIndexError\u001b[0m: index 1008 is out of bounds for axis 1 with size 1008"
     ]
    }
   ],
   "source": [
    "compute_gradient_magnitude_and_gradient_angle_Stage2(grayImage_smoothed)"
   ]
  },
  {
   "cell_type": "code",
   "execution_count": 119,
   "metadata": {},
   "outputs": [
    {
     "name": "stderr",
     "output_type": "stream",
     "text": [
      "\n",
      "Error compiling Cython file:\n",
      "------------------------------------------------------------\n",
      "...\n",
      "#gradient_magnitude = np.zeros((row, col), dtype='uint8')\n",
      "cdef np.ndarray gradient_angle = np.zeros([row, col], dtype='uint8')\n",
      "cdef np.ndarray quantize_angle_of_the_gradient = np.zeros([row, col], dtype='uint8')\n",
      "\n",
      "cdef list indices = list(product(range(1,row),range(1,col)))\n",
      "cdef np.ndarray image = grayImage_smoothed \n",
      "                       ^\n",
      "------------------------------------------------------------\n",
      "\n",
      "/Users/Stella/.ipython/cython/_cython_magic_80f61aa82bb90b80637c1b6338b97654.pyx:18:24: undeclared name not builtin: grayImage_smoothed\n"
     ]
    },
    {
     "ename": "TypeError",
     "evalue": "object of type 'NoneType' has no len()",
     "output_type": "error",
     "traceback": [
      "\u001b[0;31m---------------------------------------------------------------------------\u001b[0m",
      "\u001b[0;31mTypeError\u001b[0m                                 Traceback (most recent call last)",
      "\u001b[0;32m<ipython-input-119-58fae9b5dcdc>\u001b[0m in \u001b[0;36m<module>\u001b[0;34m()\u001b[0m\n\u001b[0;32m----> 1\u001b[0;31m \u001b[0mget_ipython\u001b[0m\u001b[0;34m(\u001b[0m\u001b[0;34m)\u001b[0m\u001b[0;34m.\u001b[0m\u001b[0mrun_cell_magic\u001b[0m\u001b[0;34m(\u001b[0m\u001b[0;34m'cython'\u001b[0m\u001b[0;34m,\u001b[0m \u001b[0;34m''\u001b[0m\u001b[0;34m,\u001b[0m \u001b[0;34m\"cimport numpy as np\\nimport numpy as np\\nctypedef np.int_t DTYPE_t\\nfrom itertools import product\\nimport math\\n\\n\\ncdef int row = 756\\ncdef int col = 1009\\n\\n# Compute gradient magnitude and gradient angle\\ncdef np.ndarray gradient_magnitude = np.zeros([row,col], dtype='uint8')\\n#gradient_magnitude = np.zeros((row, col), dtype='uint8')\\ncdef np.ndarray gradient_angle = np.zeros([row, col], dtype='uint8')\\ncdef np.ndarray quantize_angle_of_the_gradient = np.zeros([row, col], dtype='uint8')\\n\\ncdef list indices = list(product(range(1,row),range(1,col)))\\ncdef np.ndarray image = grayImage_smoothed \\nprint(image[0][0])\"\u001b[0m\u001b[0;34m)\u001b[0m\u001b[0;34m\u001b[0m\u001b[0m\n\u001b[0m",
      "\u001b[0;32m~/miniconda3/lib/python3.6/site-packages/IPython/core/interactiveshell.py\u001b[0m in \u001b[0;36mrun_cell_magic\u001b[0;34m(self, magic_name, line, cell)\u001b[0m\n\u001b[1;32m   2101\u001b[0m             \u001b[0mmagic_arg_s\u001b[0m \u001b[0;34m=\u001b[0m \u001b[0mself\u001b[0m\u001b[0;34m.\u001b[0m\u001b[0mvar_expand\u001b[0m\u001b[0;34m(\u001b[0m\u001b[0mline\u001b[0m\u001b[0;34m,\u001b[0m \u001b[0mstack_depth\u001b[0m\u001b[0;34m)\u001b[0m\u001b[0;34m\u001b[0m\u001b[0m\n\u001b[1;32m   2102\u001b[0m             \u001b[0;32mwith\u001b[0m \u001b[0mself\u001b[0m\u001b[0;34m.\u001b[0m\u001b[0mbuiltin_trap\u001b[0m\u001b[0;34m:\u001b[0m\u001b[0;34m\u001b[0m\u001b[0m\n\u001b[0;32m-> 2103\u001b[0;31m                 \u001b[0mresult\u001b[0m \u001b[0;34m=\u001b[0m \u001b[0mfn\u001b[0m\u001b[0;34m(\u001b[0m\u001b[0mmagic_arg_s\u001b[0m\u001b[0;34m,\u001b[0m \u001b[0mcell\u001b[0m\u001b[0;34m)\u001b[0m\u001b[0;34m\u001b[0m\u001b[0m\n\u001b[0m\u001b[1;32m   2104\u001b[0m             \u001b[0;32mreturn\u001b[0m \u001b[0mresult\u001b[0m\u001b[0;34m\u001b[0m\u001b[0m\n\u001b[1;32m   2105\u001b[0m \u001b[0;34m\u001b[0m\u001b[0m\n",
      "\u001b[0;32m<decorator-gen-127>\u001b[0m in \u001b[0;36mcython\u001b[0;34m(self, line, cell)\u001b[0m\n",
      "\u001b[0;32m~/miniconda3/lib/python3.6/site-packages/IPython/core/magic.py\u001b[0m in \u001b[0;36m<lambda>\u001b[0;34m(f, *a, **k)\u001b[0m\n\u001b[1;32m    185\u001b[0m     \u001b[0;31m# but it's overkill for just that one bit of state.\u001b[0m\u001b[0;34m\u001b[0m\u001b[0;34m\u001b[0m\u001b[0m\n\u001b[1;32m    186\u001b[0m     \u001b[0;32mdef\u001b[0m \u001b[0mmagic_deco\u001b[0m\u001b[0;34m(\u001b[0m\u001b[0marg\u001b[0m\u001b[0;34m)\u001b[0m\u001b[0;34m:\u001b[0m\u001b[0;34m\u001b[0m\u001b[0m\n\u001b[0;32m--> 187\u001b[0;31m         \u001b[0mcall\u001b[0m \u001b[0;34m=\u001b[0m \u001b[0;32mlambda\u001b[0m \u001b[0mf\u001b[0m\u001b[0;34m,\u001b[0m \u001b[0;34m*\u001b[0m\u001b[0ma\u001b[0m\u001b[0;34m,\u001b[0m \u001b[0;34m**\u001b[0m\u001b[0mk\u001b[0m\u001b[0;34m:\u001b[0m \u001b[0mf\u001b[0m\u001b[0;34m(\u001b[0m\u001b[0;34m*\u001b[0m\u001b[0ma\u001b[0m\u001b[0;34m,\u001b[0m \u001b[0;34m**\u001b[0m\u001b[0mk\u001b[0m\u001b[0;34m)\u001b[0m\u001b[0;34m\u001b[0m\u001b[0m\n\u001b[0m\u001b[1;32m    188\u001b[0m \u001b[0;34m\u001b[0m\u001b[0m\n\u001b[1;32m    189\u001b[0m         \u001b[0;32mif\u001b[0m \u001b[0mcallable\u001b[0m\u001b[0;34m(\u001b[0m\u001b[0marg\u001b[0m\u001b[0;34m)\u001b[0m\u001b[0;34m:\u001b[0m\u001b[0;34m\u001b[0m\u001b[0m\n",
      "\u001b[0;32m~/miniconda3/lib/python3.6/site-packages/Cython/Build/IpythonMagic.py\u001b[0m in \u001b[0;36mcython\u001b[0;34m(self, line, cell)\u001b[0m\n\u001b[1;32m    319\u001b[0m         \u001b[0;32mif\u001b[0m \u001b[0mneed_cythonize\u001b[0m\u001b[0;34m:\u001b[0m\u001b[0;34m\u001b[0m\u001b[0m\n\u001b[1;32m    320\u001b[0m             \u001b[0mextensions\u001b[0m \u001b[0;34m=\u001b[0m \u001b[0mself\u001b[0m\u001b[0;34m.\u001b[0m\u001b[0m_cythonize\u001b[0m\u001b[0;34m(\u001b[0m\u001b[0mmodule_name\u001b[0m\u001b[0;34m,\u001b[0m \u001b[0mcode\u001b[0m\u001b[0;34m,\u001b[0m \u001b[0mlib_dir\u001b[0m\u001b[0;34m,\u001b[0m \u001b[0margs\u001b[0m\u001b[0;34m,\u001b[0m \u001b[0mquiet\u001b[0m\u001b[0;34m=\u001b[0m\u001b[0margs\u001b[0m\u001b[0;34m.\u001b[0m\u001b[0mquiet\u001b[0m\u001b[0;34m)\u001b[0m\u001b[0;34m\u001b[0m\u001b[0m\n\u001b[0;32m--> 321\u001b[0;31m             \u001b[0;32massert\u001b[0m \u001b[0mlen\u001b[0m\u001b[0;34m(\u001b[0m\u001b[0mextensions\u001b[0m\u001b[0;34m)\u001b[0m \u001b[0;34m==\u001b[0m \u001b[0;36m1\u001b[0m\u001b[0;34m\u001b[0m\u001b[0m\n\u001b[0m\u001b[1;32m    322\u001b[0m             \u001b[0mextension\u001b[0m \u001b[0;34m=\u001b[0m \u001b[0mextensions\u001b[0m\u001b[0;34m[\u001b[0m\u001b[0;36m0\u001b[0m\u001b[0;34m]\u001b[0m\u001b[0;34m\u001b[0m\u001b[0m\n\u001b[1;32m    323\u001b[0m             \u001b[0mself\u001b[0m\u001b[0;34m.\u001b[0m\u001b[0m_code_cache\u001b[0m\u001b[0;34m[\u001b[0m\u001b[0mkey\u001b[0m\u001b[0;34m]\u001b[0m \u001b[0;34m=\u001b[0m \u001b[0mmodule_name\u001b[0m\u001b[0;34m\u001b[0m\u001b[0m\n",
      "\u001b[0;31mTypeError\u001b[0m: object of type 'NoneType' has no len()"
     ]
    }
   ],
   "source": [
    "%%cython\n",
    "cimport numpy as np\n",
    "import numpy as np\n",
    "ctypedef np.int_t DTYPE_t\n",
    "from itertools import product\n",
    "import math\n",
    "\n",
    "\n",
    "cdef int row = 756\n",
    "cdef int col = 1009\n",
    "\n",
    "# Compute gradient magnitude and gradient angle\n",
    "cdef np.ndarray gradient_magnitude = np.zeros([row,col], dtype='uint8')\n",
    "#gradient_magnitude = np.zeros((row, col), dtype='uint8')\n",
    "cdef np.ndarray gradient_angle = np.zeros([row, col], dtype='uint8')\n",
    "cdef np.ndarray quantize_angle_of_the_gradient = np.zeros([row, col], dtype='uint8')\n",
    "\n",
    "cdef list indices = list(product(range(1,row),range(1,col)))\n",
    "cdef np.ndarray image = grayImage_smoothed \n",
    "print(image[0][0])"
   ]
  },
  {
   "cell_type": "code",
   "execution_count": null,
   "metadata": {},
   "outputs": [],
   "source": []
  },
  {
   "cell_type": "code",
   "execution_count": null,
   "metadata": {},
   "outputs": [],
   "source": []
  },
  {
   "cell_type": "code",
   "execution_count": null,
   "metadata": {},
   "outputs": [],
   "source": []
  },
  {
   "cell_type": "code",
   "execution_count": null,
   "metadata": {},
   "outputs": [],
   "source": []
  },
  {
   "cell_type": "code",
   "execution_count": null,
   "metadata": {},
   "outputs": [],
   "source": []
  },
  {
   "cell_type": "code",
   "execution_count": null,
   "metadata": {
    "collapsed": true
   },
   "outputs": [],
   "source": []
  }
 ],
 "metadata": {
  "kernelspec": {
   "display_name": "Python 3",
   "language": "python",
   "name": "python3"
  },
  "language_info": {
   "codemirror_mode": {
    "name": "ipython",
    "version": 3
   },
   "file_extension": ".py",
   "mimetype": "text/x-python",
   "name": "python",
   "nbconvert_exporter": "python",
   "pygments_lexer": "ipython3",
   "version": "3.6.0"
  }
 },
 "nbformat": 4,
 "nbformat_minor": 2
}
